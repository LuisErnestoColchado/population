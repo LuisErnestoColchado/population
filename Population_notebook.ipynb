{
  "nbformat": 4,
  "nbformat_minor": 0,
  "metadata": {
    "colab": {
      "name": "Population .ipynb",
      "version": "0.3.2",
      "provenance": [],
      "include_colab_link": true
    },
    "kernelspec": {
      "name": "python3",
      "display_name": "Python 3"
    },
    "accelerator": "GPU"
  },
  "cells": [
    {
      "cell_type": "markdown",
      "metadata": {
        "id": "view-in-github",
        "colab_type": "text"
      },
      "source": [
        "<a href=\"https://colab.research.google.com/github/LuisErnestoColchado/population/blob/master/Population_notebook.ipynb\" target=\"_parent\"><img src=\"https://colab.research.google.com/assets/colab-badge.svg\" alt=\"Open In Colab\"/></a>"
      ]
    },
    {
      "cell_type": "markdown",
      "metadata": {
        "id": "0N5hMvF98tfc",
        "colab_type": "text"
      },
      "source": [
        "Import Libraries "
      ]
    },
    {
      "cell_type": "code",
      "metadata": {
        "id": "RgGs3Q9f7jSG",
        "colab_type": "code",
        "colab": {}
      },
      "source": [
        "import pandas as pd\n",
        "from pandas import datetime\n",
        "from matplotlib import pyplot\n",
        "import numpy as np\n",
        "from sklearn.metrics import mean_squared_error\n",
        "from sklearn.preprocessing import MinMaxScaler\n",
        "scalar = MinMaxScaler((0,1))"
      ],
      "execution_count": 0,
      "outputs": []
    },
    {
      "cell_type": "markdown",
      "metadata": {
        "id": "hR7SONf-81bi",
        "colab_type": "text"
      },
      "source": [
        "Mount my google drive in colab (not elementary for you yet)\n"
      ]
    },
    {
      "cell_type": "code",
      "metadata": {
        "id": "3V2QJ8TS7_L6",
        "colab_type": "code",
        "outputId": "5c0abb72-4fc9-4a84-d142-9777cb06d1a4",
        "colab": {
          "base_uri": "https://localhost:8080/",
          "height": 34
        }
      },
      "source": [
        "from google.colab import drive\n",
        "drive.mount('/content/drive', force_remount=True)"
      ],
      "execution_count": 0,
      "outputs": [
        {
          "output_type": "stream",
          "text": [
            "Mounted at /content/drive\n"
          ],
          "name": "stdout"
        }
      ]
    },
    {
      "cell_type": "markdown",
      "metadata": {
        "id": "qOtODH6u88VW",
        "colab_type": "text"
      },
      "source": [
        "use of the GPU for greater computational capacity (not elementary for you yet)"
      ]
    },
    {
      "cell_type": "code",
      "metadata": {
        "id": "0AGvzBtz8AlN",
        "colab_type": "code",
        "outputId": "174d8d87-def9-4338-eebb-d4e95dab30f7",
        "colab": {
          "base_uri": "https://localhost:8080/",
          "height": 34
        }
      },
      "source": [
        "import tensorflow as tf\n",
        "device_name = tf.test.gpu_device_name()\n",
        "if device_name != '/device:GPU:0':\n",
        "  raise SystemError('GPU device not found')\n",
        "print('Found GPU at: {}'.format(device_name))"
      ],
      "execution_count": 0,
      "outputs": [
        {
          "output_type": "stream",
          "text": [
            "Found GPU at: /device:GPU:0\n"
          ],
          "name": "stdout"
        }
      ]
    },
    {
      "cell_type": "markdown",
      "metadata": {
        "id": "L3FDVsf29x0y",
        "colab_type": "text"
      },
      "source": [
        "Read data in this case is data of Suecia"
      ]
    },
    {
      "cell_type": "code",
      "metadata": {
        "id": "Ou1M0A317lcO",
        "colab_type": "code",
        "colab": {}
      },
      "source": [
        "df = pd.read_csv('/content/drive/My Drive/datacsv.csv')"
      ],
      "execution_count": 0,
      "outputs": []
    },
    {
      "cell_type": "markdown",
      "metadata": {
        "id": "0DGRDw0p9_tc",
        "colab_type": "text"
      },
      "source": [
        "Write first five rows"
      ]
    },
    {
      "cell_type": "code",
      "metadata": {
        "id": "fq7XDCzu948t",
        "colab_type": "code",
        "outputId": "8cece96e-9100-4980-f388-b8f9fe7a84b9",
        "colab": {
          "base_uri": "https://localhost:8080/",
          "height": 204
        }
      },
      "source": [
        "df.head()"
      ],
      "execution_count": 0,
      "outputs": [
        {
          "output_type": "execute_result",
          "data": {
            "text/html": [
              "<div>\n",
              "<style scoped>\n",
              "    .dataframe tbody tr th:only-of-type {\n",
              "        vertical-align: middle;\n",
              "    }\n",
              "\n",
              "    .dataframe tbody tr th {\n",
              "        vertical-align: top;\n",
              "    }\n",
              "\n",
              "    .dataframe thead th {\n",
              "        text-align: right;\n",
              "    }\n",
              "</style>\n",
              "<table border=\"1\" class=\"dataframe\">\n",
              "  <thead>\n",
              "    <tr style=\"text-align: right;\">\n",
              "      <th></th>\n",
              "      <th>year</th>\n",
              "      <th>population</th>\n",
              "    </tr>\n",
              "  </thead>\n",
              "  <tbody>\n",
              "    <tr>\n",
              "      <th>0</th>\n",
              "      <td>1749</td>\n",
              "      <td>1764724</td>\n",
              "    </tr>\n",
              "    <tr>\n",
              "      <th>1</th>\n",
              "      <td>1750</td>\n",
              "      <td>1780678</td>\n",
              "    </tr>\n",
              "    <tr>\n",
              "      <th>2</th>\n",
              "      <td>1751</td>\n",
              "      <td>1802132</td>\n",
              "    </tr>\n",
              "    <tr>\n",
              "      <th>3</th>\n",
              "      <td>1752</td>\n",
              "      <td>1816703</td>\n",
              "    </tr>\n",
              "    <tr>\n",
              "      <th>4</th>\n",
              "      <td>1753</td>\n",
              "      <td>1837869</td>\n",
              "    </tr>\n",
              "  </tbody>\n",
              "</table>\n",
              "</div>"
            ],
            "text/plain": [
              "   year  population\n",
              "0  1749     1764724\n",
              "1  1750     1780678\n",
              "2  1751     1802132\n",
              "3  1752     1816703\n",
              "4  1753     1837869"
            ]
          },
          "metadata": {
            "tags": []
          },
          "execution_count": 5
        }
      ]
    },
    {
      "cell_type": "code",
      "metadata": {
        "id": "ZON7my0N7lee",
        "colab_type": "code",
        "outputId": "15614ebb-e276-47f1-9302-1e4f861b7222",
        "colab": {
          "base_uri": "https://localhost:8080/",
          "height": 1071
        }
      },
      "source": [
        "values = df.iloc[:,1]\n",
        "print(values)"
      ],
      "execution_count": 0,
      "outputs": [
        {
          "output_type": "stream",
          "text": [
            "0       1764724\n",
            "1       1780678\n",
            "2       1802132\n",
            "3       1816703\n",
            "4       1837869\n",
            "5       1857047\n",
            "6       1875029\n",
            "7       1889424\n",
            "8       1892990\n",
            "9       1893444\n",
            "10      1905866\n",
            "11      1925248\n",
            "12      1942257\n",
            "13      1949359\n",
            "14      1952238\n",
            "15      1966190\n",
            "16      1976824\n",
            "17      1992142\n",
            "18      2009596\n",
            "19      2020546\n",
            "20      2030491\n",
            "21      2042574\n",
            "22      2050680\n",
            "23      2032235\n",
            "24      1977205\n",
            "25      2000208\n",
            "26      2020847\n",
            "27      2041289\n",
            "28      2057147\n",
            "29      2073296\n",
            "         ...   \n",
            "240     8527036\n",
            "241     8590630\n",
            "242     8644119\n",
            "243     8692013\n",
            "244     8745109\n",
            "245     8816381\n",
            "246     8837496\n",
            "247     8844499\n",
            "248     8847625\n",
            "249     8854322\n",
            "250     8861426\n",
            "251     8882792\n",
            "252     8909128\n",
            "253     8940788\n",
            "254     8975670\n",
            "255     9011392\n",
            "256     9047752\n",
            "257     9113257\n",
            "258     9182927\n",
            "259     9256347\n",
            "260     9340682\n",
            "261     9415570\n",
            "262     9482855\n",
            "263     9555893\n",
            "264     9644864\n",
            "265     9747355\n",
            "266     9851017\n",
            "267     9995153\n",
            "268    10120242\n",
            "269    10230185\n",
            "Name: population, Length: 270, dtype: int64\n"
          ],
          "name": "stdout"
        }
      ]
    },
    {
      "cell_type": "markdown",
      "metadata": {
        "id": "q2_LkJYT-L9a",
        "colab_type": "text"
      },
      "source": [
        "Graph of population growth per year"
      ]
    },
    {
      "cell_type": "code",
      "metadata": {
        "id": "ixQXyTLv7lgs",
        "colab_type": "code",
        "outputId": "3474937e-befb-4032-d722-ee4e97b968e1",
        "colab": {
          "base_uri": "https://localhost:8080/",
          "height": 276
        }
      },
      "source": [
        "values = values.astype(float)\n",
        "values.plot()\n",
        "pyplot.show()"
      ],
      "execution_count": 0,
      "outputs": [
        {
          "output_type": "display_data",
          "data": {
            "image/png": "[encoded data removed]",
            "text/plain": [
              "<Figure size 432x288 with 1 Axes>"
            ]
          },
          "metadata": {
            "tags": []
          }
        }
      ]
    },
    {
      "cell_type": "markdown",
      "metadata": {
        "id": "J607YGY6-jWB",
        "colab_type": "text"
      },
      "source": [
        "convert of pandas to numpy array "
      ]
    },
    {
      "cell_type": "code",
      "metadata": {
        "id": "u2pVPkGm7ljX",
        "colab_type": "code",
        "colab": {}
      },
      "source": [
        "values = values.values.copy()"
      ],
      "execution_count": 0,
      "outputs": []
    },
    {
      "cell_type": "markdown",
      "metadata": {
        "id": "6ZEZYnlk-pNc",
        "colab_type": "text"
      },
      "source": [
        "# TIME SERIES FORECASTING\n",
        "\n",
        "**input_seq_len** is the lag time \n",
        "\n",
        "**output_seq_len** is the forecasting "
      ]
    },
    {
      "cell_type": "code",
      "metadata": {
        "id": "5N27reCU-mT1",
        "colab_type": "code",
        "colab": {}
      },
      "source": [
        "input_seq_len = 8\n",
        "output_seq_len = 1"
      ],
      "execution_count": 0,
      "outputs": []
    },
    {
      "cell_type": "markdown",
      "metadata": {
        "id": "iTY0OjgL--JJ",
        "colab_type": "text"
      },
      "source": [
        "Functions for preparing the data for time series"
      ]
    },
    {
      "cell_type": "code",
      "metadata": {
        "id": "PEtuihEv-5xJ",
        "colab_type": "code",
        "colab": {}
      },
      "source": [
        "def generate_train_samples(x, y, batch_size=24, input_seq_len=input_seq_len,\n",
        "                           output_seq_len=output_seq_len, replace = False):\n",
        "    total_start_points = len(x) - input_seq_len - output_seq_len\n",
        "    start_x_idx = np.random.choice(range(total_start_points), batch_size, replace=replace)\n",
        "\n",
        "    input_batch_idxs = [list(range(i, i + input_seq_len)) for i in start_x_idx]\n",
        "    input_seq = np.take(x, input_batch_idxs, axis=0)\n",
        "\n",
        "    output_batch_idxs = [list(range(i + input_seq_len, i + input_seq_len + output_seq_len)) for i in start_x_idx]\n",
        "    output_seq = np.take(y, output_batch_idxs, axis=0)\n",
        "\n",
        "    return input_seq, output_seq  # in shape: (batch_size, time_steps, feature_dim)\n",
        "\n",
        "def generate_test_samples(x, y, input_seq_len=input_seq_len, output_seq_len=output_seq_len):\n",
        "    total_samples = x.shape[0]\n",
        "    print(total_samples)\n",
        "    input_batch_idxs = [list(range(i, i + input_seq_len)) for i in\n",
        "                        range((total_samples - input_seq_len - output_seq_len))]\n",
        "    input_seq = np.take(x, input_batch_idxs, axis=0)\n",
        "\n",
        "    output_batch_idxs = [list(range(i + input_seq_len, i + input_seq_len + output_seq_len)) for i in\n",
        "                         range((total_samples - input_seq_len - output_seq_len))]\n",
        "    output_seq = np.take(y, output_batch_idxs, axis=0)\n",
        "\n",
        "    return input_seq, output_seq"
      ],
      "execution_count": 0,
      "outputs": []
    },
    {
      "cell_type": "code",
      "metadata": {
        "id": "OPX9xW3Y_ISX",
        "colab_type": "code",
        "colab": {}
      },
      "source": [
        "X = values.reshape(270,1).astype(float)\n",
        "Y = values.reshape(270,1).astype(float)"
      ],
      "execution_count": 0,
      "outputs": []
    },
    {
      "cell_type": "markdown",
      "metadata": {
        "id": "vu7H_1Ls_XuV",
        "colab_type": "text"
      },
      "source": [
        "Convert population values in un range of 0 to 1 (normalization)"
      ]
    },
    {
      "cell_type": "code",
      "metadata": {
        "id": "vtciDKT5_Pxt",
        "colab_type": "code",
        "colab": {}
      },
      "source": [
        "for i in range(0,X.shape[1]):\n",
        "    currentFeature = X[:, i].reshape(X.shape[0],1)\n",
        "    X[:, i] = scalar.fit_transform(currentFeature).reshape(X.shape[0])\n",
        "    \n",
        "Y = scalar.fit_transform(Y)"
      ],
      "execution_count": 0,
      "outputs": []
    },
    {
      "cell_type": "markdown",
      "metadata": {
        "id": "a3thb6wu_mbh",
        "colab_type": "text"
      },
      "source": [
        "# ARIMA MODEL (IMPORTANT THAT YOU HAVE TO READ THEORY)\n",
        "\n",
        "Implemented whit Library of Python\n"
      ]
    },
    {
      "cell_type": "code",
      "metadata": {
        "id": "-6hBN2AY_jKh",
        "colab_type": "code",
        "outputId": "fceb4c43-aab7-499b-de79-5f76279862ea",
        "colab": {
          "base_uri": "https://localhost:8080/",
          "height": 1411
        }
      },
      "source": [
        "from statsmodels.tsa.arima_model import ARIMA\n",
        "sizeTrain = int(X.shape[0] * 0.7)\n",
        "train, test = X[0:sizeTrain], X[sizeTrain:]\n",
        "history = [x for x in train]\n",
        "predictions = list()\n",
        "for t in range(len(test)):\n",
        "\tmodel = ARIMA(history, order=(input_seq_len,1,0))\n",
        "\tmodel_fit = model.fit(disp=0)\n",
        "\toutput = model_fit.forecast()\n",
        "\tyhat = output[0]\n",
        "\tpredictions.append(yhat)\n",
        "\tobs = test[t]\n",
        "\thistory.append(obs)\n",
        "\tprint('predicted=%f, expected=%f' % (yhat, obs))\n",
        "_y = scalar.inverse_transform(test)\n",
        "_yhat = scalar.inverse_transform(predictions)\n",
        "error = np.sqrt(mean_squared_error(_y, _yhat))\n",
        "print('Test RMSE: %.3f' % error)"
      ],
      "execution_count": 0,
      "outputs": [
        {
          "output_type": "stream",
          "text": [
            "predicted=0.536314, expected=0.536945\n",
            "predicted=0.539862, expected=0.540618\n",
            "predicted=0.543998, expected=0.544177\n",
            "predicted=0.547326, expected=0.548316\n",
            "predicted=0.551980, expected=0.554427\n",
            "predicted=0.559568, expected=0.562061\n",
            "predicted=0.568183, expected=0.570864\n",
            "predicted=0.577738, expected=0.579889\n",
            "predicted=0.587094, expected=0.590513\n",
            "predicted=0.599358, expected=0.599769\n",
            "predicted=0.607577, expected=0.609555\n",
            "predicted=0.617938, expected=0.616795\n",
            "predicted=0.623328, expected=0.623369\n",
            "predicted=0.629471, expected=0.630092\n",
            "predicted=0.636539, expected=0.636218\n",
            "predicted=0.641911, expected=0.641145\n",
            "predicted=0.645868, expected=0.646148\n",
            "predicted=0.650935, expected=0.652698\n",
            "predicted=0.658941, expected=0.658472\n",
            "predicted=0.663718, expected=0.664333\n",
            "predicted=0.669562, expected=0.669184\n",
            "predicted=0.673856, expected=0.673100\n",
            "predicted=0.677115, expected=0.677251\n",
            "predicted=0.681440, expected=0.682456\n",
            "predicted=0.687327, expected=0.687077\n",
            "predicted=0.691409, expected=0.692553\n",
            "predicted=0.697489, expected=0.700550\n",
            "predicted=0.707636, expected=0.709682\n",
            "predicted=0.717476, expected=0.718019\n",
            "predicted=0.724997, expected=0.723889\n",
            "predicted=0.729130, expected=0.728427\n",
            "predicted=0.733135, expected=0.737059\n",
            "predicted=0.745201, expected=0.746150\n",
            "predicted=0.753967, expected=0.750159\n",
            "predicted=0.753504, expected=0.751808\n",
            "predicted=0.754414, expected=0.753616\n",
            "predicted=0.757073, expected=0.757427\n",
            "predicted=0.761736, expected=0.761177\n",
            "predicted=0.764185, expected=0.764454\n",
            "predicted=0.767412, expected=0.768108\n",
            "predicted=0.772174, expected=0.770155\n",
            "predicted=0.772662, expected=0.772348\n",
            "predicted=0.774891, expected=0.774112\n",
            "predicted=0.776238, expected=0.774714\n",
            "predicted=0.775909, expected=0.775240\n",
            "predicted=0.776466, expected=0.775604\n",
            "predicted=0.776665, expected=0.777028\n",
            "predicted=0.778923, expected=0.778861\n",
            "predicted=0.780791, expected=0.781622\n",
            "predicted=0.784290, expected=0.785469\n",
            "predicted=0.789069, expected=0.790762\n",
            "predicted=0.795443, expected=0.798812\n",
            "predicted=0.805730, expected=0.806324\n",
            "predicted=0.812528, expected=0.812643\n",
            "predicted=0.818096, expected=0.818300\n",
            "predicted=0.823683, expected=0.824572\n",
            "predicted=0.830586, expected=0.832991\n",
            "predicted=0.840469, expected=0.835486\n",
            "predicted=0.837553, expected=0.836313\n",
            "predicted=0.837983, expected=0.836682\n",
            "predicted=0.838624, expected=0.837473\n",
            "predicted=0.839128, expected=0.838313\n",
            "predicted=0.839202, expected=0.840836\n",
            "predicted=0.843301, expected=0.843947\n",
            "predicted=0.847313, expected=0.847687\n",
            "predicted=0.851262, expected=0.851808\n",
            "predicted=0.855715, expected=0.856028\n",
            "predicted=0.860035, expected=0.860323\n",
            "predicted=0.864404, expected=0.868061\n",
            "predicted=0.874968, expected=0.876290\n",
            "predicted=0.883264, expected=0.884963\n",
            "predicted=0.892206, expected=0.894926\n",
            "predicted=0.903683, expected=0.903772\n",
            "predicted=0.911608, expected=0.911720\n",
            "predicted=0.918807, expected=0.920348\n",
            "predicted=0.928080, expected=0.930858\n",
            "predicted=0.940249, expected=0.942965\n",
            "predicted=0.953399, expected=0.955210\n",
            "predicted=0.965683, expected=0.972236\n",
            "predicted=0.987716, expected=0.987013\n",
            "predicted=1.000080, expected=1.000000\n",
            "Test RMSE: 15080.062\n"
          ],
          "name": "stdout"
        }
      ]
    },
    {
      "cell_type": "code",
      "metadata": {
        "id": "4AWSJUtelHO_",
        "colab_type": "code",
        "colab": {}
      },
      "source": [
        "def plot_test(final_preds_expand, test_y_expand):\n",
        "    fig, ax = pyplot.subplots(figsize=(17,8))\n",
        "    ax.set_title(\"Test Predictions vs. Real values\")\n",
        "    ax.plot(final_preds_expand, color = 'red', label = 'predicted')\n",
        "    ax.plot(test_y_expand, color = 'blue', label = 'real')\n",
        "    pyplot.legend(loc=\"upper left\")\n",
        "    pyplot.show()"
      ],
      "execution_count": 0,
      "outputs": []
    },
    {
      "cell_type": "code",
      "metadata": {
        "id": "RlLGR7kRnWmg",
        "colab_type": "code",
        "outputId": "ffe897b9-088d-431c-a6d6-835aa2fd5622",
        "colab": {
          "base_uri": "https://localhost:8080/",
          "height": 499
        }
      },
      "source": [
        "plot_test(_yhat,_y)"
      ],
      "execution_count": 0,
      "outputs": [
        {
          "output_type": "display_data",
          "data": {
            "image/png": "[encoded data removed]",
            "text/plain": [
              "<Figure size 1224x576 with 1 Axes>"
            ]
          },
          "metadata": {
            "tags": []
          }
        }
      ]
    },
    {
      "cell_type": "markdown",
      "metadata": {
        "id": "eVx8bFdDlHlN",
        "colab_type": "text"
      },
      "source": [
        "\n",
        "\n",
        "---\n",
        "\n"
      ]
    },
    {
      "cell_type": "markdown",
      "metadata": {
        "id": "w0RE0qZrAJpF",
        "colab_type": "text"
      },
      "source": [
        "70% of data for TRAIN\n",
        "\n",
        "30% of data for TEST "
      ]
    },
    {
      "cell_type": "code",
      "metadata": {
        "id": "TWtULypVobFU",
        "colab_type": "code",
        "colab": {}
      },
      "source": [
        "X = values.reshape(270,1).astype(float)\n",
        "Y = values.reshape(270,1).astype(float)"
      ],
      "execution_count": 0,
      "outputs": []
    },
    {
      "cell_type": "code",
      "metadata": {
        "id": "JuuX2cqUobyQ",
        "colab_type": "code",
        "colab": {}
      },
      "source": [
        "for i in range(0,X.shape[1]):\n",
        "    currentFeature = X[:, i].reshape(X.shape[0],1)\n",
        "    X[:, i] = scalar.fit_transform(currentFeature).reshape(X.shape[0])\n",
        "    \n",
        "Y = scalar.fit_transform(Y)"
      ],
      "execution_count": 0,
      "outputs": []
    },
    {
      "cell_type": "code",
      "metadata": {
        "id": "WURsiFYeAG8Y",
        "colab_type": "code",
        "colab": {}
      },
      "source": [
        "size_train = int(X.shape[0] * 0.7)\n",
        "trainx = X[0:size_train].reshape(size_train,1)\n",
        "trainy = Y[0:size_train].reshape(size_train,1)\n",
        "testx = X[size_train:].reshape(int(X.shape[0] - size_train),1)\n",
        "testy = Y[size_train:].reshape(int(X.shape[0] - size_train),1)"
      ],
      "execution_count": 0,
      "outputs": []
    },
    {
      "cell_type": "code",
      "metadata": {
        "id": "9YHc9b4PiyR7",
        "colab_type": "code",
        "outputId": "4ca8b7b4-7381-4122-8c52-909cd2aaec09",
        "colab": {
          "base_uri": "https://localhost:8080/",
          "height": 34
        }
      },
      "source": [
        "xTrain, yTrain = generate_train_samples(trainx,trainy,size_train,input_seq_len,output_seq_len,True)\n",
        "xTest, yTest = generate_test_samples(testx, testy)"
      ],
      "execution_count": 0,
      "outputs": [
        {
          "output_type": "stream",
          "text": [
            "81\n"
          ],
          "name": "stdout"
        }
      ]
    },
    {
      "cell_type": "markdown",
      "metadata": {
        "id": "P0H5m2Fgi3UK",
        "colab_type": "text"
      },
      "source": [
        "KERAS LIBRARY: Helps you develop artificial neural networks faster"
      ]
    },
    {
      "cell_type": "code",
      "metadata": {
        "id": "HK2nU8aGjhyv",
        "colab_type": "code",
        "outputId": "e820b62c-711f-42b2-ccc9-7e076fe01d5b",
        "colab": {
          "base_uri": "https://localhost:8080/",
          "height": 34
        }
      },
      "source": [
        "from keras.models import Model, Sequential\n",
        "from keras.layers import LSTM\n",
        "from keras.layers import Dense, Input, concatenate"
      ],
      "execution_count": 0,
      "outputs": [
        {
          "output_type": "stream",
          "text": [
            "Using TensorFlow backend.\n"
          ],
          "name": "stderr"
        }
      ]
    },
    {
      "cell_type": "markdown",
      "metadata": {
        "id": "VAamzJzkjiFO",
        "colab_type": "text"
      },
      "source": [
        "# MULTILAYER PERCEPTRON\n",
        "numberNeuron_per_layer: define the number of neurons per hidden layer \n",
        "\n",
        "\n",
        "number of hidden layer = 2 layers \n",
        "\n",
        "\n",
        "loss: mean square error\n",
        "\n",
        "\n",
        "optimization: adam \n"
      ]
    },
    {
      "cell_type": "code",
      "metadata": {
        "id": "Fl5EP2n5i2ob",
        "colab_type": "code",
        "outputId": "47904632-2c0b-4981-b4e6-8ef417e1c4dc",
        "colab": {
          "base_uri": "https://localhost:8080/",
          "height": 1176
        }
      },
      "source": [
        "batch_size = 16\n",
        "numberNeuron_per_layer = 300\n",
        "\n",
        "number_test = int(xTest.shape[0] / batch_size)\n",
        "model = Sequential()\n",
        "model.add(Dense(numberNeuron_per_layer, activation='sigmoid', input_dim=input_seq_len))\n",
        "model.add(Dense(numberNeuron_per_layer, activation='sigmoid', input_dim=input_seq_len))\n",
        "model.add(Dense(output_seq_len))\n",
        "model.compile(optimizer='adam', loss='mse')\n",
        "train_x = xTrain.reshape(xTrain.shape[0], input_seq_len)\n",
        "train_y = yTrain.reshape(yTrain.shape[0], output_seq_len)\n",
        "model.fit(train_x, train_y, epochs=30, batch_size=batch_size)\n",
        "\n",
        "test_x = xTest[0:number_test,:].reshape(number_test,input_seq_len)\n",
        "yTest = yTest[0:number_test, :].reshape(number_test,output_seq_len)\n",
        "yhat = model.predict(test_x, batch_size=batch_size)\n",
        "\n",
        "yhat = np.reshape(yhat, (number_test, output_seq_len))\n",
        "yhatinv = scalar.inverse_transform(yhat).reshape(number_test,output_seq_len)\n",
        "yinv = scalar.inverse_transform(yTest).reshape(number_test,output_seq_len)\n",
        "rmseTest = np.sqrt(mean_squared_error(yinv, yhatinv))\n",
        "print(\"RMSE \", rmseTest)"
      ],
      "execution_count": 0,
      "outputs": [
        {
          "output_type": "stream",
          "text": [
            "WARNING:tensorflow:From /usr/local/lib/python3.6/dist-packages/tensorflow/python/framework/op_def_library.py:263: colocate_with (from tensorflow.python.framework.ops) is deprecated and will be removed in a future version.\n",
            "Instructions for updating:\n",
            "Colocations handled automatically by placer.\n",
            "WARNING:tensorflow:From /usr/local/lib/python3.6/dist-packages/tensorflow/python/ops/math_ops.py:3066: to_int32 (from tensorflow.python.ops.math_ops) is deprecated and will be removed in a future version.\n",
            "Instructions for updating:\n",
            "Use tf.cast instead.\n",
            "Epoch 1/30\n",
            "189/189 [==============================] - 0s 3ms/step - loss: 0.1441\n",
            "Epoch 2/30\n",
            "189/189 [==============================] - 0s 171us/step - loss: 0.0564\n",
            "Epoch 3/30\n",
            "189/189 [==============================] - 0s 172us/step - loss: 0.0470\n",
            "Epoch 4/30\n",
            "189/189 [==============================] - 0s 172us/step - loss: 0.0269\n",
            "Epoch 5/30\n",
            "189/189 [==============================] - 0s 169us/step - loss: 0.0180\n",
            "Epoch 6/30\n",
            "189/189 [==============================] - 0s 173us/step - loss: 0.0150\n",
            "Epoch 7/30\n",
            "189/189 [==============================] - 0s 191us/step - loss: 0.0104\n",
            "Epoch 8/30\n",
            "189/189 [==============================] - 0s 171us/step - loss: 0.0073\n",
            "Epoch 9/30\n",
            "189/189 [==============================] - 0s 179us/step - loss: 0.0046\n",
            "Epoch 10/30\n",
            "189/189 [==============================] - 0s 167us/step - loss: 0.0060\n",
            "Epoch 11/30\n",
            "189/189 [==============================] - 0s 163us/step - loss: 0.0039\n",
            "Epoch 12/30\n",
            "189/189 [==============================] - 0s 166us/step - loss: 0.0016\n",
            "Epoch 13/30\n",
            "189/189 [==============================] - 0s 192us/step - loss: 3.9696e-04\n",
            "Epoch 14/30\n",
            "189/189 [==============================] - 0s 168us/step - loss: 1.7254e-04\n",
            "Epoch 15/30\n",
            "189/189 [==============================] - 0s 181us/step - loss: 6.7085e-05\n",
            "Epoch 16/30\n",
            "189/189 [==============================] - 0s 167us/step - loss: 4.5759e-05\n",
            "Epoch 17/30\n",
            "189/189 [==============================] - 0s 209us/step - loss: 3.6338e-05\n",
            "Epoch 18/30\n",
            "189/189 [==============================] - 0s 176us/step - loss: 3.4243e-05\n",
            "Epoch 19/30\n",
            "189/189 [==============================] - 0s 169us/step - loss: 3.7569e-05\n",
            "Epoch 20/30\n",
            "189/189 [==============================] - 0s 177us/step - loss: 3.2076e-05\n",
            "Epoch 21/30\n",
            "189/189 [==============================] - 0s 177us/step - loss: 3.5324e-05\n",
            "Epoch 22/30\n",
            "189/189 [==============================] - 0s 171us/step - loss: 3.8536e-05\n",
            "Epoch 23/30\n",
            "189/189 [==============================] - 0s 181us/step - loss: 4.3651e-05\n",
            "Epoch 24/30\n",
            "189/189 [==============================] - 0s 169us/step - loss: 3.9906e-05\n",
            "Epoch 25/30\n",
            "189/189 [==============================] - 0s 172us/step - loss: 3.7072e-05\n",
            "Epoch 26/30\n",
            "189/189 [==============================] - 0s 174us/step - loss: 4.5259e-05\n",
            "Epoch 27/30\n",
            "189/189 [==============================] - 0s 172us/step - loss: 3.5580e-05\n",
            "Epoch 28/30\n",
            "189/189 [==============================] - 0s 169us/step - loss: 3.2984e-05\n",
            "Epoch 29/30\n",
            "189/189 [==============================] - 0s 188us/step - loss: 3.0874e-05\n",
            "Epoch 30/30\n",
            "189/189 [==============================] - 0s 167us/step - loss: 4.2161e-05\n",
            "RMSE  164360.33583220435\n"
          ],
          "name": "stdout"
        }
      ]
    },
    {
      "cell_type": "code",
      "metadata": {
        "id": "vzZ72eZKn1P5",
        "colab_type": "code",
        "outputId": "39f54996-c06c-46ad-c74f-3f24be9f6d94",
        "colab": {
          "base_uri": "https://localhost:8080/",
          "height": 499
        }
      },
      "source": [
        "plot_test(yinv,yhatinv)"
      ],
      "execution_count": 0,
      "outputs": [
        {
          "output_type": "display_data",
          "data": {
            "image/png": "[encoded data removed]",
            "text/plain": [
              "<Figure size 1224x576 with 1 Axes>"
            ]
          },
          "metadata": {
            "tags": []
          }
        }
      ]
    },
    {
      "cell_type": "markdown",
      "metadata": {
        "id": "jGUz-QitkFI_",
        "colab_type": "text"
      },
      "source": [
        "# LSTM:  Is a recurrent neural network. IMPORTANT THAT YOU HAVE TO READ THEORY (DEEP LEARNING BOOK)"
      ]
    },
    {
      "cell_type": "code",
      "metadata": {
        "id": "bRSR9tlVyOng",
        "colab_type": "code",
        "colab": {}
      },
      "source": [
        "X = values.reshape(270,1).astype(float)\n",
        "Y = values.reshape(270,1).astype(float)"
      ],
      "execution_count": 0,
      "outputs": []
    },
    {
      "cell_type": "code",
      "metadata": {
        "id": "bgHfKBneyWEu",
        "colab_type": "code",
        "colab": {}
      },
      "source": [
        "for i in range(0,X.shape[1]):\n",
        "    currentFeature = X[:, i].reshape(X.shape[0],1)\n",
        "    X[:, i] = scalar.fit_transform(currentFeature).reshape(X.shape[0])\n",
        "    \n",
        "Y = scalar.fit_transform(Y)"
      ],
      "execution_count": 0,
      "outputs": []
    },
    {
      "cell_type": "code",
      "metadata": {
        "id": "CmOqbyToyWjk",
        "colab_type": "code",
        "colab": {}
      },
      "source": [
        "size_train = int(X.shape[0] * 0.7)\n",
        "trainx = X[0:size_train].reshape(size_train,1)\n",
        "trainy = Y[0:size_train].reshape(size_train,1)\n",
        "testx = X[size_train:].reshape(int(X.shape[0] - size_train),1)\n",
        "testy = Y[size_train:].reshape(int(X.shape[0] - size_train),1)"
      ],
      "execution_count": 0,
      "outputs": []
    },
    {
      "cell_type": "code",
      "metadata": {
        "id": "t243MP1ajg79",
        "colab_type": "code",
        "outputId": "2430c9fd-861c-4169-9553-e6e9cb684401",
        "colab": {
          "base_uri": "https://localhost:8080/",
          "height": 34
        }
      },
      "source": [
        "xTrain, yTrain = generate_train_samples(trainx,trainy,size_train,input_seq_len,output_seq_len,True)\n",
        "xTest, yTest = generate_test_samples(testx, testy)"
      ],
      "execution_count": 0,
      "outputs": [
        {
          "output_type": "stream",
          "text": [
            "81\n"
          ],
          "name": "stdout"
        }
      ]
    },
    {
      "cell_type": "code",
      "metadata": {
        "id": "fGeJbpRLkcb3",
        "colab_type": "code",
        "outputId": "1ae0782c-a62f-4217-d32c-af8769cec305",
        "colab": {
          "base_uri": "https://localhost:8080/",
          "height": 3672
        }
      },
      "source": [
        "batch_size = 16\n",
        "number_cells = 119\n",
        "number_train = int(size_train - (size_train % batch_size))\n",
        "number_test = int(xTest.shape[0] / batch_size)\n",
        "model = Sequential()\n",
        "model.add(LSTM(number_cells, batch_input_shape=(batch_size, xTrain.shape[1], xTrain.shape[2]), return_sequences=True))\n",
        "model.add(LSTM(number_cells))\n",
        "model.add(Dense(output_seq_len, activation='sigmoid'))\n",
        "print(model.summary())\n",
        "model.compile(loss='mae', optimizer='adam')\n",
        "\n",
        "xTrain = np.reshape(xTrain[0:number_train], (number_train, input_seq_len,1))\n",
        "\n",
        "yTrain = np.reshape(yTrain[0:number_train], (number_train, output_seq_len))\n",
        "\n",
        "model.fit(xTrain, yTrain, epochs=100, batch_size=batch_size)\n",
        "\n",
        "test_x = xTest[0:batch_size*number_test,:]\n",
        "yTest = yTest[0:batch_size*number_test, :].reshape(batch_size*number_test,output_seq_len)\n",
        "yhat = model.predict(test_x, batch_size=16)\n",
        "\n",
        "yhat = np.reshape(yhat, (batch_size*number_test, output_seq_len))\n",
        "predict = scalar.inverse_transform(yhat).reshape(batch_size*number_test,output_seq_len)\n",
        "yy = scalar.inverse_transform(yTest).reshape(batch_size*number_test,output_seq_len)\n",
        "rmseTest = np.sqrt(mean_squared_error(yinv, yhatinv))\n",
        "print(\"RMSE \", rmseTest)"
      ],
      "execution_count": 0,
      "outputs": [
        {
          "output_type": "stream",
          "text": [
            "_________________________________________________________________\n",
            "Layer (type)                 Output Shape              Param #   \n",
            "=================================================================\n",
            "lstm_3 (LSTM)                (16, 8, 119)              57596     \n",
            "_________________________________________________________________\n",
            "lstm_4 (LSTM)                (16, 119)                 113764    \n",
            "_________________________________________________________________\n",
            "dense_5 (Dense)              (16, 1)                   120       \n",
            "=================================================================\n",
            "Total params: 171,480\n",
            "Trainable params: 171,480\n",
            "Non-trainable params: 0\n",
            "_________________________________________________________________\n",
            "None\n",
            "Epoch 1/100\n",
            "176/176 [==============================] - 1s 6ms/step - loss: 0.2564\n",
            "Epoch 2/100\n",
            "176/176 [==============================] - 0s 1ms/step - loss: 0.1847\n",
            "Epoch 3/100\n",
            "176/176 [==============================] - 0s 1ms/step - loss: 0.1534\n",
            "Epoch 4/100\n",
            "176/176 [==============================] - 0s 1ms/step - loss: 0.1190\n",
            "Epoch 5/100\n",
            "176/176 [==============================] - 0s 1ms/step - loss: 0.0482\n",
            "Epoch 6/100\n",
            "176/176 [==============================] - 0s 1ms/step - loss: 0.0377\n",
            "Epoch 7/100\n",
            "176/176 [==============================] - 0s 1ms/step - loss: 0.0261\n",
            "Epoch 8/100\n",
            "176/176 [==============================] - 0s 1ms/step - loss: 0.0213\n",
            "Epoch 9/100\n",
            "176/176 [==============================] - 0s 1ms/step - loss: 0.0158\n",
            "Epoch 10/100\n",
            "176/176 [==============================] - 0s 1ms/step - loss: 0.0137\n",
            "Epoch 11/100\n",
            "176/176 [==============================] - 0s 1ms/step - loss: 0.0107\n",
            "Epoch 12/100\n",
            "176/176 [==============================] - 0s 1ms/step - loss: 0.0121\n",
            "Epoch 13/100\n",
            "176/176 [==============================] - 0s 1ms/step - loss: 0.0115\n",
            "Epoch 14/100\n",
            "176/176 [==============================] - 0s 1ms/step - loss: 0.0109\n",
            "Epoch 15/100\n",
            "176/176 [==============================] - 0s 1ms/step - loss: 0.0106\n",
            "Epoch 16/100\n",
            "176/176 [==============================] - 0s 1ms/step - loss: 0.0134\n",
            "Epoch 17/100\n",
            "176/176 [==============================] - 0s 1ms/step - loss: 0.0120\n",
            "Epoch 18/100\n",
            "176/176 [==============================] - 0s 1ms/step - loss: 0.0101\n",
            "Epoch 19/100\n",
            "176/176 [==============================] - 0s 1ms/step - loss: 0.0111\n",
            "Epoch 20/100\n",
            "176/176 [==============================] - 0s 1ms/step - loss: 0.0105\n",
            "Epoch 21/100\n",
            "176/176 [==============================] - 0s 1ms/step - loss: 0.0105\n",
            "Epoch 22/100\n",
            "176/176 [==============================] - 0s 1ms/step - loss: 0.0091\n",
            "Epoch 23/100\n",
            "176/176 [==============================] - 0s 1ms/step - loss: 0.0111\n",
            "Epoch 24/100\n",
            "176/176 [==============================] - 0s 1ms/step - loss: 0.0104\n",
            "Epoch 25/100\n",
            "176/176 [==============================] - 0s 1ms/step - loss: 0.0091\n",
            "Epoch 26/100\n",
            "176/176 [==============================] - 0s 1ms/step - loss: 0.0108\n",
            "Epoch 27/100\n",
            "176/176 [==============================] - 0s 1ms/step - loss: 0.0130\n",
            "Epoch 28/100\n",
            "176/176 [==============================] - 0s 1ms/step - loss: 0.0110\n",
            "Epoch 29/100\n",
            "176/176 [==============================] - 0s 1ms/step - loss: 0.0118\n",
            "Epoch 30/100\n",
            "176/176 [==============================] - 0s 1ms/step - loss: 0.0127\n",
            "Epoch 31/100\n",
            "176/176 [==============================] - 0s 1ms/step - loss: 0.0123\n",
            "Epoch 32/100\n",
            "176/176 [==============================] - 0s 1ms/step - loss: 0.0145\n",
            "Epoch 33/100\n",
            "176/176 [==============================] - 0s 1ms/step - loss: 0.0112\n",
            "Epoch 34/100\n",
            "176/176 [==============================] - 0s 1ms/step - loss: 0.0126\n",
            "Epoch 35/100\n",
            "176/176 [==============================] - 0s 1ms/step - loss: 0.0128\n",
            "Epoch 36/100\n",
            "176/176 [==============================] - 0s 1ms/step - loss: 0.0132\n",
            "Epoch 37/100\n",
            "176/176 [==============================] - 0s 1ms/step - loss: 0.0093\n",
            "Epoch 38/100\n",
            "176/176 [==============================] - 0s 1ms/step - loss: 0.0100\n",
            "Epoch 39/100\n",
            "176/176 [==============================] - 0s 1ms/step - loss: 0.0108\n",
            "Epoch 40/100\n",
            "176/176 [==============================] - 0s 1ms/step - loss: 0.0101\n",
            "Epoch 41/100\n",
            "176/176 [==============================] - 0s 1ms/step - loss: 0.0096\n",
            "Epoch 42/100\n",
            "176/176 [==============================] - 0s 1ms/step - loss: 0.0084\n",
            "Epoch 43/100\n",
            "176/176 [==============================] - 0s 1ms/step - loss: 0.0100\n",
            "Epoch 44/100\n",
            "176/176 [==============================] - 0s 1ms/step - loss: 0.0104\n",
            "Epoch 45/100\n",
            "176/176 [==============================] - 0s 1ms/step - loss: 0.0116\n",
            "Epoch 46/100\n",
            "176/176 [==============================] - 0s 1ms/step - loss: 0.0103\n",
            "Epoch 47/100\n",
            "176/176 [==============================] - 0s 1ms/step - loss: 0.0105\n",
            "Epoch 48/100\n",
            "176/176 [==============================] - 0s 1ms/step - loss: 0.0098\n",
            "Epoch 49/100\n",
            "176/176 [==============================] - 0s 1ms/step - loss: 0.0089\n",
            "Epoch 50/100\n",
            "176/176 [==============================] - 0s 1ms/step - loss: 0.0108\n",
            "Epoch 51/100\n",
            "176/176 [==============================] - 0s 1ms/step - loss: 0.0083\n",
            "Epoch 52/100\n",
            "176/176 [==============================] - 0s 1ms/step - loss: 0.0087\n",
            "Epoch 53/100\n",
            "176/176 [==============================] - 0s 1ms/step - loss: 0.0083\n",
            "Epoch 54/100\n",
            "176/176 [==============================] - 0s 1ms/step - loss: 0.0083\n",
            "Epoch 55/100\n",
            "176/176 [==============================] - 0s 1ms/step - loss: 0.0101\n",
            "Epoch 56/100\n",
            "176/176 [==============================] - 0s 1ms/step - loss: 0.0062\n",
            "Epoch 57/100\n",
            "176/176 [==============================] - 0s 1ms/step - loss: 0.0061\n",
            "Epoch 58/100\n",
            "176/176 [==============================] - 0s 1ms/step - loss: 0.0072\n",
            "Epoch 59/100\n",
            "176/176 [==============================] - 0s 1ms/step - loss: 0.0063\n",
            "Epoch 60/100\n",
            "176/176 [==============================] - 0s 1ms/step - loss: 0.0072\n",
            "Epoch 61/100\n",
            "176/176 [==============================] - 0s 1ms/step - loss: 0.0075\n",
            "Epoch 62/100\n",
            "176/176 [==============================] - 0s 1ms/step - loss: 0.0081\n",
            "Epoch 63/100\n",
            "176/176 [==============================] - 0s 1ms/step - loss: 0.0061\n",
            "Epoch 64/100\n",
            "176/176 [==============================] - 0s 1ms/step - loss: 0.0075\n",
            "Epoch 65/100\n",
            "176/176 [==============================] - 0s 1ms/step - loss: 0.0072\n",
            "Epoch 66/100\n",
            "176/176 [==============================] - 0s 1ms/step - loss: 0.0061\n",
            "Epoch 67/100\n",
            "176/176 [==============================] - 0s 1ms/step - loss: 0.0074\n",
            "Epoch 68/100\n",
            "176/176 [==============================] - 0s 1ms/step - loss: 0.0090\n",
            "Epoch 69/100\n",
            "176/176 [==============================] - 0s 1ms/step - loss: 0.0069\n",
            "Epoch 70/100\n",
            "176/176 [==============================] - 0s 1ms/step - loss: 0.0079\n",
            "Epoch 71/100\n",
            "176/176 [==============================] - 0s 1ms/step - loss: 0.0095\n",
            "Epoch 72/100\n",
            "176/176 [==============================] - 0s 1ms/step - loss: 0.0127\n",
            "Epoch 73/100\n",
            "176/176 [==============================] - 0s 1ms/step - loss: 0.0073\n",
            "Epoch 74/100\n",
            "176/176 [==============================] - 0s 1ms/step - loss: 0.0067\n",
            "Epoch 75/100\n",
            "176/176 [==============================] - 0s 1ms/step - loss: 0.0056\n",
            "Epoch 76/100\n",
            "176/176 [==============================] - 0s 1ms/step - loss: 0.0062\n",
            "Epoch 77/100\n",
            "176/176 [==============================] - 0s 1ms/step - loss: 0.0061\n",
            "Epoch 78/100\n",
            "176/176 [==============================] - 0s 1ms/step - loss: 0.0075\n",
            "Epoch 79/100\n",
            "176/176 [==============================] - 0s 1ms/step - loss: 0.0078\n",
            "Epoch 80/100\n",
            "176/176 [==============================] - 0s 1ms/step - loss: 0.0054\n",
            "Epoch 81/100\n",
            "176/176 [==============================] - 0s 1ms/step - loss: 0.0043\n",
            "Epoch 82/100\n",
            "176/176 [==============================] - 0s 1ms/step - loss: 0.0050\n",
            "Epoch 83/100\n",
            "176/176 [==============================] - 0s 1ms/step - loss: 0.0057\n",
            "Epoch 84/100\n",
            "176/176 [==============================] - 0s 1ms/step - loss: 0.0058\n",
            "Epoch 85/100\n",
            "176/176 [==============================] - 0s 1ms/step - loss: 0.0060\n",
            "Epoch 86/100\n",
            "176/176 [==============================] - 0s 1ms/step - loss: 0.0059\n",
            "Epoch 87/100\n",
            "176/176 [==============================] - 0s 1ms/step - loss: 0.0070\n",
            "Epoch 88/100\n",
            "176/176 [==============================] - 0s 1ms/step - loss: 0.0051\n",
            "Epoch 89/100\n",
            "176/176 [==============================] - 0s 1ms/step - loss: 0.0062\n",
            "Epoch 90/100\n",
            "176/176 [==============================] - 0s 1ms/step - loss: 0.0051\n",
            "Epoch 91/100\n",
            "176/176 [==============================] - 0s 1ms/step - loss: 0.0046\n",
            "Epoch 92/100\n",
            "176/176 [==============================] - 0s 1ms/step - loss: 0.0053\n",
            "Epoch 93/100\n",
            "176/176 [==============================] - 0s 1ms/step - loss: 0.0060\n",
            "Epoch 94/100\n",
            "176/176 [==============================] - 0s 1ms/step - loss: 0.0063\n",
            "Epoch 95/100\n",
            "176/176 [==============================] - 0s 1ms/step - loss: 0.0065\n",
            "Epoch 96/100\n",
            "176/176 [==============================] - 0s 1ms/step - loss: 0.0058\n",
            "Epoch 97/100\n",
            "176/176 [==============================] - 0s 1ms/step - loss: 0.0053\n",
            "Epoch 98/100\n",
            "176/176 [==============================] - 0s 1ms/step - loss: 0.0053\n",
            "Epoch 99/100\n",
            "176/176 [==============================] - 0s 1ms/step - loss: 0.0067\n",
            "Epoch 100/100\n",
            "176/176 [==============================] - 0s 1ms/step - loss: 0.0072\n",
            "RMSE  164360.33583220435\n"
          ],
          "name": "stdout"
        }
      ]
    },
    {
      "cell_type": "code",
      "metadata": {
        "id": "kDtqoH8jowK1",
        "colab_type": "code",
        "outputId": "aafb92f0-2c73-46bd-921d-bae368314c54",
        "colab": {
          "base_uri": "https://localhost:8080/",
          "height": 499
        }
      },
      "source": [
        "plot_test(yy,predict) "
      ],
      "execution_count": 0,
      "outputs": [
        {
          "output_type": "display_data",
          "data": {
            "image/png": "[encoded data removed]",
            "text/plain": [
              "<Figure size 1224x576 with 1 Axes>"
            ]
          },
          "metadata": {
            "tags": []
          }
        }
      ]
    },
    {
      "cell_type": "markdown",
      "metadata": {
        "id": "MA-z08zcs2Y-",
        "colab_type": "text"
      },
      "source": [
        "\n",
        "\n",
        "---\n",
        "\n"
      ]
    }
  ]
}